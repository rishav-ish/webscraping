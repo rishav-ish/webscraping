{
 "cells": [
  {
   "cell_type": "markdown",
   "metadata": {},
   "source": [
    "# Practicing Scraping"
   ]
  },
  {
   "cell_type": "code",
   "execution_count": 1,
   "metadata": {},
   "outputs": [],
   "source": [
    "import re\n",
    "import os\n",
    "import requests\n",
    "from bs4 import BeautifulSoup"
   ]
  },
  {
   "cell_type": "markdown",
   "metadata": {},
   "source": [
    "# Extracing links from the site to extract\n",
    "we are going to extract books.toscrape.com"
   ]
  },
  {
   "cell_type": "code",
   "execution_count": 2,
   "metadata": {},
   "outputs": [],
   "source": [
    "url = \"http://books.toscrape.com\""
   ]
  },
  {
   "cell_type": "code",
   "execution_count": 3,
   "metadata": {},
   "outputs": [],
   "source": [
    "html = requests.get(\"http://books.toscrape.com\")"
   ]
  },
  {
   "cell_type": "code",
   "execution_count": 4,
   "metadata": {},
   "outputs": [],
   "source": [
    "bsObj = BeautifulSoup(html.content)"
   ]
  },
  {
   "cell_type": "markdown",
   "metadata": {},
   "source": [
    "# Getting the categories"
   ]
  },
  {
   "cell_type": "code",
   "execution_count": 5,
   "metadata": {},
   "outputs": [],
   "source": [
    "categories_link = bsObj.find(\"div\",{\"class\":\"side_categories\"}).find_all(\"a\")"
   ]
  },
  {
   "cell_type": "code",
   "execution_count": 6,
   "metadata": {},
   "outputs": [],
   "source": [
    "link = set()\n",
    "\n",
    "for l in categories_link:\n",
    "    if l['href'] not in link:  #we are using set foor lookup operation\n",
    "        link.add(l['href'])\n",
    "        \n",
    "link = list(link)      #converting set to list for better traversing operations"
   ]
  },
  {
   "cell_type": "code",
   "execution_count": 7,
   "metadata": {},
   "outputs": [
    {
     "data": {
      "text/plain": [
       "51"
      ]
     },
     "execution_count": 7,
     "metadata": {},
     "output_type": "execute_result"
    }
   ],
   "source": [
    "len(link)"
   ]
  },
  {
   "cell_type": "code",
   "execution_count": 8,
   "metadata": {},
   "outputs": [
    {
     "data": {
      "text/plain": [
       "['catalogue/category/books/fiction_10/index.html',\n",
       " 'catalogue/category/books/paranormal_24/index.html',\n",
       " 'catalogue/category/books/short-stories_45/index.html',\n",
       " 'catalogue/category/books/health_47/index.html',\n",
       " 'catalogue/category/books/contemporary_38/index.html',\n",
       " 'catalogue/category/books/parenting_28/index.html',\n",
       " 'catalogue/category/books/humor_30/index.html',\n",
       " 'catalogue/category/books/historical-fiction_4/index.html',\n",
       " 'catalogue/category/books/adult-fiction_29/index.html',\n",
       " 'catalogue/category/books/academic_40/index.html',\n",
       " 'catalogue/category/books/suspense_44/index.html',\n",
       " 'catalogue/category/books/business_35/index.html',\n",
       " 'catalogue/category/books/historical_42/index.html',\n",
       " 'catalogue/category/books/science_22/index.html',\n",
       " 'catalogue/category/books_1/index.html',\n",
       " 'catalogue/category/books/fantasy_19/index.html',\n",
       " 'catalogue/category/books/new-adult_20/index.html',\n",
       " 'catalogue/category/books/philosophy_7/index.html',\n",
       " 'catalogue/category/books/self-help_41/index.html',\n",
       " 'catalogue/category/books/horror_31/index.html',\n",
       " 'catalogue/category/books/sequential-art_5/index.html',\n",
       " 'catalogue/category/books/erotica_50/index.html',\n",
       " 'catalogue/category/books/poetry_23/index.html',\n",
       " 'catalogue/category/books/crime_51/index.html',\n",
       " 'catalogue/category/books/spirituality_39/index.html',\n",
       " 'catalogue/category/books/thriller_37/index.html',\n",
       " 'catalogue/category/books/nonfiction_13/index.html',\n",
       " 'catalogue/category/books/default_15/index.html',\n",
       " 'catalogue/category/books/mystery_3/index.html',\n",
       " 'catalogue/category/books/classics_6/index.html',\n",
       " 'catalogue/category/books/christian-fiction_34/index.html',\n",
       " 'catalogue/category/books/novels_46/index.html',\n",
       " 'catalogue/category/books/childrens_11/index.html',\n",
       " 'catalogue/category/books/christian_43/index.html',\n",
       " 'catalogue/category/books/romance_8/index.html',\n",
       " 'catalogue/category/books/travel_2/index.html',\n",
       " 'catalogue/category/books/cultural_49/index.html',\n",
       " 'catalogue/category/books/religion_12/index.html',\n",
       " 'catalogue/category/books/biography_36/index.html',\n",
       " 'catalogue/category/books/art_25/index.html',\n",
       " 'catalogue/category/books/politics_48/index.html',\n",
       " 'catalogue/category/books/sports-and-games_17/index.html',\n",
       " 'catalogue/category/books/psychology_26/index.html',\n",
       " 'catalogue/category/books/food-and-drink_33/index.html',\n",
       " 'catalogue/category/books/womens-fiction_9/index.html',\n",
       " 'catalogue/category/books/science-fiction_16/index.html',\n",
       " 'catalogue/category/books/music_14/index.html',\n",
       " 'catalogue/category/books/young-adult_21/index.html',\n",
       " 'catalogue/category/books/autobiography_27/index.html',\n",
       " 'catalogue/category/books/add-a-comment_18/index.html',\n",
       " 'catalogue/category/books/history_32/index.html']"
      ]
     },
     "execution_count": 8,
     "metadata": {},
     "output_type": "execute_result"
    }
   ],
   "source": [
    "link"
   ]
  },
  {
   "cell_type": "markdown",
   "metadata": {},
   "source": [
    "# Absolute Link"
   ]
  },
  {
   "cell_type": "markdown",
   "metadata": {},
   "source": [
    "As we can see above link are relative to the web page but when we use requests library we need to provide absolute url so let convert our link to absolute link"
   ]
  },
  {
   "cell_type": "code",
   "execution_count": 9,
   "metadata": {},
   "outputs": [],
   "source": [
    "for i in range(len(link)):\n",
    "    link[i] = url + '/' + link[i]"
   ]
  },
  {
   "cell_type": "code",
   "execution_count": 10,
   "metadata": {},
   "outputs": [
    {
     "data": {
      "text/plain": [
       "['http://books.toscrape.com/catalogue/category/books/fiction_10/index.html',\n",
       " 'http://books.toscrape.com/catalogue/category/books/paranormal_24/index.html',\n",
       " 'http://books.toscrape.com/catalogue/category/books/short-stories_45/index.html',\n",
       " 'http://books.toscrape.com/catalogue/category/books/health_47/index.html',\n",
       " 'http://books.toscrape.com/catalogue/category/books/contemporary_38/index.html',\n",
       " 'http://books.toscrape.com/catalogue/category/books/parenting_28/index.html',\n",
       " 'http://books.toscrape.com/catalogue/category/books/humor_30/index.html',\n",
       " 'http://books.toscrape.com/catalogue/category/books/historical-fiction_4/index.html',\n",
       " 'http://books.toscrape.com/catalogue/category/books/adult-fiction_29/index.html',\n",
       " 'http://books.toscrape.com/catalogue/category/books/academic_40/index.html',\n",
       " 'http://books.toscrape.com/catalogue/category/books/suspense_44/index.html',\n",
       " 'http://books.toscrape.com/catalogue/category/books/business_35/index.html',\n",
       " 'http://books.toscrape.com/catalogue/category/books/historical_42/index.html',\n",
       " 'http://books.toscrape.com/catalogue/category/books/science_22/index.html',\n",
       " 'http://books.toscrape.com/catalogue/category/books_1/index.html',\n",
       " 'http://books.toscrape.com/catalogue/category/books/fantasy_19/index.html',\n",
       " 'http://books.toscrape.com/catalogue/category/books/new-adult_20/index.html',\n",
       " 'http://books.toscrape.com/catalogue/category/books/philosophy_7/index.html',\n",
       " 'http://books.toscrape.com/catalogue/category/books/self-help_41/index.html',\n",
       " 'http://books.toscrape.com/catalogue/category/books/horror_31/index.html',\n",
       " 'http://books.toscrape.com/catalogue/category/books/sequential-art_5/index.html',\n",
       " 'http://books.toscrape.com/catalogue/category/books/erotica_50/index.html',\n",
       " 'http://books.toscrape.com/catalogue/category/books/poetry_23/index.html',\n",
       " 'http://books.toscrape.com/catalogue/category/books/crime_51/index.html',\n",
       " 'http://books.toscrape.com/catalogue/category/books/spirituality_39/index.html',\n",
       " 'http://books.toscrape.com/catalogue/category/books/thriller_37/index.html',\n",
       " 'http://books.toscrape.com/catalogue/category/books/nonfiction_13/index.html',\n",
       " 'http://books.toscrape.com/catalogue/category/books/default_15/index.html',\n",
       " 'http://books.toscrape.com/catalogue/category/books/mystery_3/index.html',\n",
       " 'http://books.toscrape.com/catalogue/category/books/classics_6/index.html',\n",
       " 'http://books.toscrape.com/catalogue/category/books/christian-fiction_34/index.html',\n",
       " 'http://books.toscrape.com/catalogue/category/books/novels_46/index.html',\n",
       " 'http://books.toscrape.com/catalogue/category/books/childrens_11/index.html',\n",
       " 'http://books.toscrape.com/catalogue/category/books/christian_43/index.html',\n",
       " 'http://books.toscrape.com/catalogue/category/books/romance_8/index.html',\n",
       " 'http://books.toscrape.com/catalogue/category/books/travel_2/index.html',\n",
       " 'http://books.toscrape.com/catalogue/category/books/cultural_49/index.html',\n",
       " 'http://books.toscrape.com/catalogue/category/books/religion_12/index.html',\n",
       " 'http://books.toscrape.com/catalogue/category/books/biography_36/index.html',\n",
       " 'http://books.toscrape.com/catalogue/category/books/art_25/index.html',\n",
       " 'http://books.toscrape.com/catalogue/category/books/politics_48/index.html',\n",
       " 'http://books.toscrape.com/catalogue/category/books/sports-and-games_17/index.html',\n",
       " 'http://books.toscrape.com/catalogue/category/books/psychology_26/index.html',\n",
       " 'http://books.toscrape.com/catalogue/category/books/food-and-drink_33/index.html',\n",
       " 'http://books.toscrape.com/catalogue/category/books/womens-fiction_9/index.html',\n",
       " 'http://books.toscrape.com/catalogue/category/books/science-fiction_16/index.html',\n",
       " 'http://books.toscrape.com/catalogue/category/books/music_14/index.html',\n",
       " 'http://books.toscrape.com/catalogue/category/books/young-adult_21/index.html',\n",
       " 'http://books.toscrape.com/catalogue/category/books/autobiography_27/index.html',\n",
       " 'http://books.toscrape.com/catalogue/category/books/add-a-comment_18/index.html',\n",
       " 'http://books.toscrape.com/catalogue/category/books/history_32/index.html']"
      ]
     },
     "execution_count": 10,
     "metadata": {},
     "output_type": "execute_result"
    }
   ],
   "source": [
    "link"
   ]
  },
  {
   "cell_type": "markdown",
   "metadata": {},
   "source": [
    "# Let's Extract Images from each categories"
   ]
  },
  {
   "cell_type": "code",
   "execution_count": 11,
   "metadata": {},
   "outputs": [],
   "source": [
    "def get_image_url(url):\n",
    "    html = requests.get(url)\n",
    "    bsObj = BeautifulSoup(html.content)\n",
    "    image_container = bsObj.find_all(\"div\",{\"class\":\"image_container\"})\n",
    "    link = set()\n",
    "    for i in image_container:\n",
    "        if i.find(\"img\")['src'] not in link:\n",
    "            link.add(i.find(\"img\")['src'])\n",
    "            \n",
    "    link = list(link)\n",
    "    \n",
    "    #cleanup operations\n",
    "    \n",
    "    for i in range(len(link)):\n",
    "        link[i] = url[0:25] + '/' + re.sub(\"^(../)*\",\"\",link[i])\n",
    "        \n",
    "    return link"
   ]
  },
  {
   "cell_type": "code",
   "execution_count": 12,
   "metadata": {},
   "outputs": [],
   "source": [
    "def save_image(url,path):\n",
    "    temp = url.split('/')\n",
    "    path = path + '\\\\' + temp[-1]\n",
    "    html = requests.get(url)\n",
    "    \n",
    "    with open(path,'wb') as image:\n",
    "        image.write(html.content)"
   ]
  },
  {
   "cell_type": "markdown",
   "metadata": {},
   "source": [
    "# Final Script to Get every image in each categories as seprate folder"
   ]
  },
  {
   "cell_type": "code",
   "execution_count": 13,
   "metadata": {},
   "outputs": [],
   "source": [
    "path = os.getcwd()"
   ]
  },
  {
   "cell_type": "code",
   "execution_count": 14,
   "metadata": {},
   "outputs": [
    {
     "data": {
      "text/plain": [
       "'C:\\\\Users\\\\Dell\\\\Desktop\\\\webscraping'"
      ]
     },
     "execution_count": 14,
     "metadata": {},
     "output_type": "execute_result"
    }
   ],
   "source": [
    "path"
   ]
  },
  {
   "cell_type": "code",
   "execution_count": 15,
   "metadata": {},
   "outputs": [],
   "source": [
    "path = path + '\\\\' + 'books'\n",
    "\n",
    "os.mkdir(path)"
   ]
  },
  {
   "cell_type": "code",
   "execution_count": 16,
   "metadata": {},
   "outputs": [],
   "source": [
    "for l in link:\n",
    "    name = l.split('/')[-2]\n",
    "    #cleanup\n",
    "    name = re.sub('_+[0-9]*$',\"\",name)\n",
    "    path2 = path + '\\\\' + name\n",
    "    os.mkdir(path2)\n",
    "    temp_list = get_image_url(l)\n",
    "    for t in temp_list:\n",
    "        save_image(t,path2)"
   ]
  },
  {
   "cell_type": "markdown",
   "metadata": {},
   "source": [
    "Finally you will be able to see that site is scraped which each each categories in different folder"
   ]
  },
  {
   "cell_type": "code",
   "execution_count": null,
   "metadata": {},
   "outputs": [],
   "source": []
  }
 ],
 "metadata": {
  "kernelspec": {
   "display_name": "Python 3",
   "language": "python",
   "name": "python3"
  },
  "language_info": {
   "codemirror_mode": {
    "name": "ipython",
    "version": 3
   },
   "file_extension": ".py",
   "mimetype": "text/x-python",
   "name": "python",
   "nbconvert_exporter": "python",
   "pygments_lexer": "ipython3",
   "version": "3.6.8"
  }
 },
 "nbformat": 4,
 "nbformat_minor": 2
}
